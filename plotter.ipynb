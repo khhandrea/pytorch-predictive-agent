{
 "cells": [
  {
   "cell_type": "code",
   "execution_count": 1,
   "metadata": {},
   "outputs": [],
   "source": [
    "from matplotlib import pyplot as plt\n",
    "from matplotlib.axes._axes import Axes\n",
    "\n",
    "def plot_trajectory(ax: Axes,\n",
    "                    x_coords:list[int],\n",
    "                    y_coords:list[int]\n",
    "                    ) -> None:\n",
    "    assert len(x_coords) == len(y_coords)\n",
    "\n",
    "    ax.plot(x_coords, y_coords)\n",
    "    ax.set_xlim(0, 1015)\n",
    "    ax.set_ylim(0, 1015)\n",
    "    ax.grid(False)\n",
    "    ax.xaxis.set_visible(False)\n",
    "    ax.yaxis.set_visible(False)\n",
    "    ax.set_title('Trajectory plot')\n",
    "    ax.set_xlabel('X coordinate')\n",
    "    ax.set_ylabel('Y coordinate')\n",
    "    ax.grid(True)"
   ]
  },
  {
   "cell_type": "code",
   "execution_count": 2,
   "metadata": {},
   "outputs": [],
   "source": [
    "from csv import reader\n",
    "from collections import defaultdict\n",
    "\n",
    "def read_csv(path: str) -> list:\n",
    "    data = defaultdict(list)\n",
    "    with open(path, newline='') as file:\n",
    "        csv_reader = reader(file)\n",
    "        for row in csv_reader:\n",
    "            for idx, item in enumerate(row):\n",
    "                data[idx].append(item)\n",
    "    return data.values()"
   ]
  },
  {
   "cell_type": "code",
   "execution_count": 5,
   "metadata": {},
   "outputs": [
    {
     "name": "stderr",
     "output_type": "stream",
     "text": [
      "/tmp/ipykernel_2191306/3210721623.py:6: UserWarning: FigureCanvasAgg is non-interactive, and thus cannot be shown\n",
      "  fig.show()\n"
     ]
    },
    {
     "data": {
      "image/png": "[encoded data removed]",
      "text/plain": [
       "<Figure size 1200x600 with 1 Axes>"
      ]
     },
     "metadata": {},
     "output_type": "display_data"
    }
   ],
   "source": [
    "fig = plt.figure(figsize=(12, 6))\n",
    "\n",
    "ax1 = plt.subplot(1, 2, 1)\n",
    "x_coords, y_coords = read_csv('coord_logs/240415T212332_controller_learning/process_0.csv')\n",
    "plot_trajectory(ax1, x_coords, y_coords)\n",
    "fig.show()"
   ]
  }
 ],
 "metadata": {
  "kernelspec": {
   "display_name": "pytorch-predictive-agent-iYpGXNvj",
   "language": "python",
   "name": "python3"
  },
  "language_info": {
   "codemirror_mode": {
    "name": "ipython",
    "version": 3
   },
   "file_extension": ".py",
   "mimetype": "text/x-python",
   "name": "python",
   "nbconvert_exporter": "python",
   "pygments_lexer": "ipython3",
   "version": "3.11.6"
  }
 },
 "nbformat": 4,
 "nbformat_minor": 2
}
